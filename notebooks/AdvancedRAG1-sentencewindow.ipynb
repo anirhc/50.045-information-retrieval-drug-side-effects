{
 "cells": [
  {
   "cell_type": "markdown",
   "id": "1a0fe1f0",
   "metadata": {},
   "source": [
    "### PLEASE PASTE YOUR OWN API KEY HERE"
   ]
  },
  {
   "cell_type": "code",
   "execution_count": 3,
   "id": "2841bed9-2260-442c-95a1-896598d6a6dd",
   "metadata": {},
   "outputs": [],
   "source": [
    "import os\n",
    "\n",
    "os.environ[\"OPENAI_API_KEY\"] = \"\"\n"
   ]
  },
  {
   "cell_type": "code",
   "execution_count": 3,
   "id": "533260f0-0165-4fcc-b959-d3e88a1b6640",
   "metadata": {},
   "outputs": [
    {
     "name": "stderr",
     "output_type": "stream",
     "text": [
      "2023-12-05 09:21:20,423\tINFO worker.py:1642 -- Started a local Ray instance.\n"
     ]
    },
    {
     "data": {
      "application/vnd.jupyter.widget-view+json": {
       "model_id": "4223ea1158a94174847d604e330b084c",
       "version_major": 2,
       "version_minor": 0
      },
      "text/html": [
       "<div class=\"lm-Widget p-Widget lm-Panel p-Panel jp-Cell-outputWrapper\">\n",
       "    <div style=\"margin-left: 50px;display: flex;flex-direction: row;align-items: center\">\n",
       "        <div class=\"jp-RenderedHTMLCommon\" style=\"display: flex; flex-direction: row;\">\n",
       "  <svg viewBox=\"0 0 567 224\" fill=\"none\" xmlns=\"http://www.w3.org/2000/svg\" style=\"height: 3em;\">\n",
       "    <g clip-path=\"url(#clip0_4338_178347)\">\n",
       "        <path d=\"M341.29 165.561H355.29L330.13 129.051C345.63 123.991 354.21 112.051 354.21 94.2307C354.21 71.3707 338.72 58.1807 311.88 58.1807H271V165.561H283.27V131.661H311.8C314.25 131.661 316.71 131.501 319.01 131.351L341.25 165.561H341.29ZM283.29 119.851V70.0007H311.82C331.3 70.0007 342.34 78.2907 342.34 94.5507C342.34 111.271 331.34 119.861 311.82 119.861L283.29 119.851ZM451.4 138.411L463.4 165.561H476.74L428.74 58.1807H416L367.83 165.561H380.83L392.83 138.411H451.4ZM446.19 126.601H398L422 72.1407L446.24 126.601H446.19ZM526.11 128.741L566.91 58.1807H554.35L519.99 114.181L485.17 58.1807H472.44L514.01 129.181V165.541H526.13V128.741H526.11Z\" fill=\"var(--jp-ui-font-color0)\"/>\n",
       "        <path d=\"M82.35 104.44C84.0187 97.8827 87.8248 92.0678 93.1671 87.9146C98.5094 83.7614 105.083 81.5067 111.85 81.5067C118.617 81.5067 125.191 83.7614 130.533 87.9146C135.875 92.0678 139.681 97.8827 141.35 104.44H163.75C164.476 101.562 165.622 98.8057 167.15 96.2605L127.45 56.5605C121.071 60.3522 113.526 61.6823 106.235 60.3005C98.9443 58.9187 92.4094 54.9203 87.8602 49.0574C83.3109 43.1946 81.0609 35.8714 81.5332 28.4656C82.0056 21.0599 85.1679 14.0819 90.4252 8.8446C95.6824 3.60726 102.672 0.471508 110.08 0.0272655C117.487 -0.416977 124.802 1.86091 130.647 6.4324C136.493 11.0039 140.467 17.5539 141.821 24.8501C143.175 32.1463 141.816 39.6859 138 46.0505L177.69 85.7505C182.31 82.9877 187.58 81.4995 192.962 81.4375C198.345 81.3755 203.648 82.742 208.33 85.3976C213.012 88.0532 216.907 91.9029 219.616 96.5544C222.326 101.206 223.753 106.492 223.753 111.875C223.753 117.258 222.326 122.545 219.616 127.197C216.907 131.848 213.012 135.698 208.33 138.353C203.648 141.009 198.345 142.375 192.962 142.313C187.58 142.251 182.31 140.763 177.69 138L138 177.7C141.808 184.071 143.155 191.614 141.79 198.91C140.424 206.205 136.44 212.75 130.585 217.313C124.731 221.875 117.412 224.141 110.004 223.683C102.596 223.226 95.6103 220.077 90.3621 214.828C85.1139 209.58 81.9647 202.595 81.5072 195.187C81.0497 187.779 83.3154 180.459 87.878 174.605C92.4405 168.751 98.9853 164.766 106.281 163.401C113.576 162.035 121.119 163.383 127.49 167.19L167.19 127.49C165.664 124.941 164.518 122.182 163.79 119.3H141.39C139.721 125.858 135.915 131.673 130.573 135.826C125.231 139.98 118.657 142.234 111.89 142.234C105.123 142.234 98.5494 139.98 93.2071 135.826C87.8648 131.673 84.0587 125.858 82.39 119.3H60C58.1878 126.495 53.8086 132.78 47.6863 136.971C41.5641 141.163 34.1211 142.972 26.7579 142.059C19.3947 141.146 12.6191 137.574 7.70605 132.014C2.79302 126.454 0.0813599 119.29 0.0813599 111.87C0.0813599 104.451 2.79302 97.2871 7.70605 91.7272C12.6191 86.1673 19.3947 82.5947 26.7579 81.6817C34.1211 80.7686 41.5641 82.5781 47.6863 86.7696C53.8086 90.9611 58.1878 97.2456 60 104.44H82.35ZM100.86 204.32C103.407 206.868 106.759 208.453 110.345 208.806C113.93 209.159 117.527 208.258 120.522 206.256C123.517 204.254 125.725 201.276 126.771 197.828C127.816 194.38 127.633 190.677 126.253 187.349C124.874 184.021 122.383 181.274 119.205 179.577C116.027 177.88 112.359 177.337 108.826 178.042C105.293 178.746 102.113 180.654 99.8291 183.44C97.5451 186.226 96.2979 189.718 96.3 193.32C96.2985 195.364 96.7006 197.388 97.4831 199.275C98.2656 201.163 99.4132 202.877 100.86 204.32ZM204.32 122.88C206.868 120.333 208.453 116.981 208.806 113.396C209.159 109.811 208.258 106.214 206.256 103.219C204.254 100.223 201.275 98.0151 197.827 96.97C194.38 95.9249 190.676 96.1077 187.348 97.4873C184.02 98.8669 181.274 101.358 179.577 104.536C177.879 107.714 177.337 111.382 178.041 114.915C178.746 118.448 180.653 121.627 183.439 123.911C186.226 126.195 189.717 127.443 193.32 127.44C195.364 127.443 197.388 127.042 199.275 126.259C201.163 125.476 202.878 124.328 204.32 122.88ZM122.88 19.4205C120.333 16.8729 116.981 15.2876 113.395 14.9347C109.81 14.5817 106.213 15.483 103.218 17.4849C100.223 19.4868 98.0146 22.4654 96.9696 25.9131C95.9245 29.3608 96.1073 33.0642 97.4869 36.3922C98.8665 39.7202 101.358 42.4668 104.535 44.1639C107.713 45.861 111.381 46.4036 114.914 45.6992C118.447 44.9949 121.627 43.0871 123.911 40.301C126.195 37.515 127.442 34.0231 127.44 30.4205C127.44 28.3772 127.038 26.3539 126.255 24.4664C125.473 22.5788 124.326 20.8642 122.88 19.4205ZM19.42 100.86C16.8725 103.408 15.2872 106.76 14.9342 110.345C14.5813 113.93 15.4826 117.527 17.4844 120.522C19.4863 123.518 22.4649 125.726 25.9127 126.771C29.3604 127.816 33.0638 127.633 36.3918 126.254C39.7198 124.874 42.4664 122.383 44.1635 119.205C45.8606 116.027 46.4032 112.359 45.6988 108.826C44.9944 105.293 43.0866 102.114 40.3006 99.8296C37.5145 97.5455 34.0227 96.2983 30.42 96.3005C26.2938 96.3018 22.337 97.9421 19.42 100.86ZM100.86 100.86C98.3125 103.408 96.7272 106.76 96.3742 110.345C96.0213 113.93 96.9226 117.527 98.9244 120.522C100.926 123.518 103.905 125.726 107.353 126.771C110.8 127.816 114.504 127.633 117.832 126.254C121.16 124.874 123.906 122.383 125.604 119.205C127.301 116.027 127.843 112.359 127.139 108.826C126.434 105.293 124.527 102.114 121.741 99.8296C118.955 97.5455 115.463 96.2983 111.86 96.3005C109.817 96.299 107.793 96.701 105.905 97.4835C104.018 98.2661 102.303 99.4136 100.86 100.86Z\" fill=\"#00AEEF\"/>\n",
       "    </g>\n",
       "    <defs>\n",
       "        <clipPath id=\"clip0_4338_178347\">\n",
       "            <rect width=\"566.93\" height=\"223.75\" fill=\"white\"/>\n",
       "        </clipPath>\n",
       "    </defs>\n",
       "  </svg>\n",
       "</div>\n",
       "\n",
       "        <table class=\"jp-RenderedHTMLCommon\" style=\"border-collapse: collapse;color: var(--jp-ui-font-color1);font-size: var(--jp-ui-font-size1);\">\n",
       "    <tr>\n",
       "        <td style=\"text-align: left\"><b>Python version:</b></td>\n",
       "        <td style=\"text-align: left\"><b>3.11.5</b></td>\n",
       "    </tr>\n",
       "    <tr>\n",
       "        <td style=\"text-align: left\"><b>Ray version:</b></td>\n",
       "        <td style=\"text-align: left\"><b>2.7.0</b></td>\n",
       "    </tr>\n",
       "    \n",
       "</table>\n",
       "\n",
       "    </div>\n",
       "</div>\n"
      ],
      "text/plain": [
       "RayContext(dashboard_url='', python_version='3.11.5', ray_version='2.7.0', ray_commit='b4bba4717f5ba04ee25580fe8f88eed63ef0c5dc', protocol_version=None)"
      ]
     },
     "execution_count": 3,
     "metadata": {},
     "output_type": "execute_result"
    }
   ],
   "source": [
    "import ray\n",
    "\n",
    "# Credentials\n",
    "ray.init(runtime_env={\n",
    "    \"env_vars\": {\n",
    "        \"OPENAI_API_KEY\": os.environ[\"OPENAI_API_KEY\"], \n",
    "    },\n",
    "})"
   ]
  },
  {
   "cell_type": "code",
   "execution_count": 1,
   "id": "1c9dff2c-7d63-4468-98b6-ea1bd062bdc6",
   "metadata": {},
   "outputs": [],
   "source": [
    "import nest_asyncio\n",
    "\n",
    "nest_asyncio.apply()"
   ]
  },
  {
   "cell_type": "markdown",
   "id": "a7368186-bdfc-4532-98b1-5570e0a957e2",
   "metadata": {},
   "source": [
    "### Sentence Window Retrieval (Window size = 1, Top_K = 20, model = mistral)"
   ]
  },
  {
   "cell_type": "code",
   "execution_count": 4,
   "id": "9317162e-ab72-4889-9a93-7baf8a1c4ff5",
   "metadata": {},
   "outputs": [],
   "source": [
    "BASE_MODEL = 'sentence-transformers/all-mpnet-base-v2'  \n",
    "WINDOW_SIZE = 1\n",
    "TOP_K = 20\n",
    "\n",
    "TEST_SUBSAMPLE_N = 10\n",
    "\n",
    "EXPERIMENT_NAME = 'sentence_window'"
   ]
  },
  {
   "cell_type": "code",
   "execution_count": 5,
   "id": "f1bb0734-8041-47b7-98d7-1b89c67b394b",
   "metadata": {},
   "outputs": [],
   "source": [
    "import json\n",
    "from llama_index.schema import Document\n",
    "\n",
    "def read_json(filename):\n",
    "    with open(filename, 'r') as f:\n",
    "        data = json.load(f)\n",
    "    return data\n",
    "\n",
    "def to_doc(entry_dict):\n",
    "    return Document(text=entry_dict['text'], metadata={'drug_link': entry_dict['source']}) \n",
    "\n",
    "def load_corpus(filename):\n",
    "    sections = read_json(filename)\n",
    "    docs = [to_doc(dict_) for dict_ in sections]\n",
    "    return docs"
   ]
  },
  {
   "cell_type": "code",
   "execution_count": 6,
   "id": "eaed3f3a-1448-417c-ad0e-2638a4f63895",
   "metadata": {},
   "outputs": [],
   "source": [
    "docs = load_corpus('../datasets/eval_qst.json')"
   ]
  },
  {
   "cell_type": "code",
   "execution_count": 7,
   "id": "69877558-d95f-4a3a-89aa-cfe536e897c0",
   "metadata": {},
   "outputs": [
    {
     "data": {
      "application/vnd.jupyter.widget-view+json": {
       "model_id": "3f47e406f40144bca432c89e30c16f39",
       "version_major": 2,
       "version_minor": 0
      },
      "text/plain": [
       "Parsing documents into nodes:   0%|          | 0/2966 [00:00<?, ?it/s]"
      ]
     },
     "metadata": {},
     "output_type": "display_data"
    },
    {
     "data": {
      "application/vnd.jupyter.widget-view+json": {
       "model_id": "30d098511be7498c9a832c105b89dabb",
       "version_major": 2,
       "version_minor": 0
      },
      "text/plain": [
       "Generating embeddings:   0%|          | 0/17571 [00:00<?, ?it/s]"
      ]
     },
     "metadata": {},
     "output_type": "display_data"
    }
   ],
   "source": [
    "from langchain.embeddings import HuggingFaceEmbeddings\n",
    "from llama_index import ServiceContext, set_global_service_context, VectorStoreIndex\n",
    "from llama_index.llms import OpenAI\n",
    "from llama_index.node_parser import SentenceWindowNodeParser\n",
    "from llama_index.indices.postprocessor import MetadataReplacementPostProcessor\n",
    "\n",
    "# create the sentence window node parser\n",
    "node_parser = SentenceWindowNodeParser.from_defaults(\n",
    "    window_size=WINDOW_SIZE,\n",
    "    window_metadata_key=\"window\",\n",
    "    original_text_metadata_key=\"original_text\",\n",
    ")\n",
    "\n",
    "service_context = ServiceContext.from_defaults(\n",
    "    embed_model=HuggingFaceEmbeddings(\n",
    "        model_name=BASE_MODEL\n",
    "    ),\n",
    "    node_parser=node_parser,\n",
    ")\n",
    "\n",
    "index = VectorStoreIndex.from_documents(\n",
    "    docs, \n",
    "    service_context=service_context, \n",
    "    show_progress=True\n",
    ")"
   ]
  },
  {
   "cell_type": "code",
   "execution_count": 8,
   "id": "7548a5c4-928d-4dd0-9dc3-1273159cfaf9",
   "metadata": {},
   "outputs": [],
   "source": [
    "retriever = index.as_retriever(similarity_top_k=TOP_K)"
   ]
  },
  {
   "cell_type": "code",
   "execution_count": 10,
   "id": "c240e3a5-e6f0-44e3-83b2-c42ab555e92a",
   "metadata": {},
   "outputs": [],
   "source": [
    "query_engine = index.as_query_engine(\n",
    "    similarity_top_k=TOP_K,\n",
    "    # the target key defaults to `window` to match the node_parser's default\n",
    "    node_postprocessors=[\n",
    "        MetadataReplacementPostProcessor(target_metadata_key=\"window\")\n",
    "    ],\n",
    ")"
   ]
  },
  {
   "cell_type": "markdown",
   "id": "c304ee4d-b60c-475b-be40-f9338c1bf46d",
   "metadata": {},
   "source": [
    "#### Evaluating retrieval"
   ]
  },
  {
   "cell_type": "code",
   "execution_count": 11,
   "id": "4a6e9926-7636-4372-b42f-72d8f025b1eb",
   "metadata": {},
   "outputs": [
    {
     "name": "stderr",
     "output_type": "stream",
     "text": [
      "2023-12-04 09:32:37.920165: E external/local_xla/xla/stream_executor/cuda/cuda_dnn.cc:9261] Unable to register cuDNN factory: Attempting to register factory for plugin cuDNN when one has already been registered\n",
      "2023-12-04 09:32:37.920249: E external/local_xla/xla/stream_executor/cuda/cuda_fft.cc:607] Unable to register cuFFT factory: Attempting to register factory for plugin cuFFT when one has already been registered\n",
      "2023-12-04 09:32:37.921509: E external/local_xla/xla/stream_executor/cuda/cuda_blas.cc:1515] Unable to register cuBLAS factory: Attempting to register factory for plugin cuBLAS when one has already been registered\n",
      "2023-12-04 09:32:37.928283: I tensorflow/core/platform/cpu_feature_guard.cc:182] This TensorFlow binary is optimized to use available CPU instructions in performance-critical operations.\n",
      "To enable the following instructions: AVX2 FMA, in other operations, rebuild TensorFlow with the appropriate compiler flags.\n",
      "2023-12-04 09:32:38.985193: W tensorflow/compiler/tf2tensorrt/utils/py_utils.cc:38] TF-TRT Warning: Could not find TensorRT\n"
     ]
    }
   ],
   "source": [
    "import json\n",
    "import numpy as np\n",
    "\n",
    "from eval import evaluate_retrieval"
   ]
  },
  {
   "cell_type": "code",
   "execution_count": 12,
   "id": "f0518762-f40b-4995-be4f-8067ded8ba99",
   "metadata": {},
   "outputs": [],
   "source": [
    "from pathlib import Path\n",
    "golden_dataset_path = Path(\"../datasets/eval_qst.json\")\n",
    "with open(golden_dataset_path, \"r\") as f:\n",
    "    golden_dataset = json.load(f)\n",
    "\n",
    "queries = [item['question'] for item in golden_dataset]\n",
    "golden_sources = [item['source'] for item in golden_dataset]"
   ]
  },
  {
   "cell_type": "code",
   "execution_count": 37,
   "id": "1d1111be-e54f-449b-b54a-8877487acbdb",
   "metadata": {},
   "outputs": [
    {
     "name": "stderr",
     "output_type": "stream",
     "text": [
      "100%|███████████████████████████████████████████████████████████████████████████████| 2966/2966 [23:04<00:00,  2.14it/s]\n"
     ]
    }
   ],
   "source": [
    "results = evaluate_retrieval(retriever, queries, golden_sources)"
   ]
  },
  {
   "cell_type": "code",
   "execution_count": 39,
   "id": "1680dac3-81a2-4594-bf52-f63f2241531d",
   "metadata": {},
   "outputs": [
    {
     "data": {
      "text/plain": [
       "0.9463924477410655"
      ]
     },
     "execution_count": 39,
     "metadata": {},
     "output_type": "execute_result"
    }
   ],
   "source": [
    "from eval import evaluate_retrieval, get_hit_rate, get_mean_score\n",
    "hit_rate = get_hit_rate(results)\n",
    "hit_rate"
   ]
  },
  {
   "cell_type": "markdown",
   "id": "4adf65bc-26ca-4607-9452-6375d266044b",
   "metadata": {
    "jp-MarkdownHeadingCollapsed": true
   },
   "source": [
    "#### Evaluating RAG"
   ]
  },
  {
   "cell_type": "code",
   "execution_count": 13,
   "id": "a4a963cf-6951-4e80-bf62-5482211f5172",
   "metadata": {},
   "outputs": [
    {
     "data": {
      "text/plain": [
       "{'question': 'What are the side effects of doxycycline?',\n",
       " 'source': 'https://www.drugs.com/doxycycline.html',\n",
       " 'response': 'The side effects of doxycycline may include severe stomach pain, diarrhea that is watery or bloody, throat irritation, trouble swallowing, chest pain, irregular heart rhythm, feeling short of breath, little or no urination, low white blood cell counts, severe headaches, ringing in your ears, dizziness, nausea, vision problems, pain behind your eyes, loss of appetite, upper stomach pain, tiredness, nausea or vomiting, fast heart rate, dark urine, and jaundice. Common side effects may include nausea and vomiting, upset stomach, loss of appetite, mild diarrhea, skin rash or itching, darkened skin color, and vaginal itching or discharge.'}"
      ]
     },
     "execution_count": 13,
     "metadata": {},
     "output_type": "execute_result"
    }
   ],
   "source": [
    "with open(\"../datasets/golden-responses.json\", \"r\") as file:\n",
    "    golden_responses = json.load(file)\n",
    "golden_responses[0]"
   ]
  },
  {
   "cell_type": "code",
   "execution_count": 15,
   "id": "eb987f9a-2acd-4e56-b3c8-bd849586fa33",
   "metadata": {},
   "outputs": [],
   "source": [
    "import os\n",
    "from llama_index.llms import Replicate\n",
    "os.environ[\"REPLICATE_API_TOKEN\"]=\"r8_a0d6dQeqgpR2DEpik21hoyocmFx0eBI01cm6w\"\n",
    "llm = Replicate(\n",
    "    model=\"mistralai/mistral-7b-v0.1:3e8a0fb6d7812ce30701ba597e5080689bef8a013e5c6a724fafb108cc2426a0\"\n",
    ")\n",
    "query_engine = index.as_query_engine(\n",
    "    similarity_top_k=TOP_K,\n",
    "    # the target key defaults to `window` to match the node_parser's default\n",
    "    node_postprocessors=[\n",
    "        MetadataReplacementPostProcessor(target_metadata_key=\"window\")\n",
    "    ],\n",
    "    llm=llm\n",
    ")"
   ]
  },
  {
   "cell_type": "code",
   "execution_count": 16,
   "id": "fbb35d0f-1137-44aa-9c68-8bf5025bc397",
   "metadata": {
    "scrolled": true
   },
   "outputs": [
    {
     "name": "stderr",
     "output_type": "stream",
     "text": [
      " 30%|█████████████████████████▏                                                          | 3/10 [00:19<00:44,  6.37s/it]WARNING:llama_index.llms.openai_utils:Retrying llama_index.llms.openai_utils.completion_with_retry.<locals>._completion_with_retry in 4.0 seconds as it raised RateLimitError: Rate limit reached for gpt-3.5-turbo in organization org-kdP6t2JxpPUqXQC2t4zLx3Mt on requests per min (RPM): Limit 3, Used 3, Requested 1. Please try again in 20s. Visit https://platform.openai.com/account/rate-limits to learn more. You can increase your rate limit by adding a payment method to your account at https://platform.openai.com/account/billing..\n",
      "WARNING:llama_index.llms.openai_utils:Retrying llama_index.llms.openai_utils.completion_with_retry.<locals>._completion_with_retry in 4.0 seconds as it raised RateLimitError: Rate limit reached for gpt-3.5-turbo in organization org-kdP6t2JxpPUqXQC2t4zLx3Mt on requests per min (RPM): Limit 3, Used 3, Requested 1. Please try again in 20s. Visit https://platform.openai.com/account/rate-limits to learn more. You can increase your rate limit by adding a payment method to your account at https://platform.openai.com/account/billing..\n",
      "WARNING:llama_index.llms.openai_utils:Retrying llama_index.llms.openai_utils.completion_with_retry.<locals>._completion_with_retry in 4.0 seconds as it raised RateLimitError: Rate limit reached for gpt-3.5-turbo in organization org-kdP6t2JxpPUqXQC2t4zLx3Mt on requests per min (RPM): Limit 3, Used 3, Requested 1. Please try again in 20s. Visit https://platform.openai.com/account/rate-limits to learn more. You can increase your rate limit by adding a payment method to your account at https://platform.openai.com/account/billing..\n",
      "WARNING:llama_index.llms.openai_utils:Retrying llama_index.llms.openai_utils.completion_with_retry.<locals>._completion_with_retry in 4.0 seconds as it raised RateLimitError: Rate limit reached for gpt-3.5-turbo in organization org-kdP6t2JxpPUqXQC2t4zLx3Mt on requests per min (RPM): Limit 3, Used 3, Requested 1. Please try again in 20s. Visit https://platform.openai.com/account/rate-limits to learn more. You can increase your rate limit by adding a payment method to your account at https://platform.openai.com/account/billing..\n",
      "WARNING:llama_index.llms.openai_utils:Retrying llama_index.llms.openai_utils.completion_with_retry.<locals>._completion_with_retry in 8.0 seconds as it raised RateLimitError: Rate limit reached for gpt-3.5-turbo in organization org-kdP6t2JxpPUqXQC2t4zLx3Mt on requests per min (RPM): Limit 3, Used 3, Requested 1. Please try again in 20s. Visit https://platform.openai.com/account/rate-limits to learn more. You can increase your rate limit by adding a payment method to your account at https://platform.openai.com/account/billing..\n",
      " 40%|█████████████████████████████████▌                                                  | 4/10 [00:51<01:37, 16.25s/it]WARNING:llama_index.llms.openai_utils:Retrying llama_index.llms.openai_utils.completion_with_retry.<locals>._completion_with_retry in 4.0 seconds as it raised RateLimitError: Rate limit reached for gpt-3.5-turbo in organization org-kdP6t2JxpPUqXQC2t4zLx3Mt on requests per min (RPM): Limit 3, Used 3, Requested 1. Please try again in 20s. Visit https://platform.openai.com/account/rate-limits to learn more. You can increase your rate limit by adding a payment method to your account at https://platform.openai.com/account/billing..\n",
      "WARNING:llama_index.llms.openai_utils:Retrying llama_index.llms.openai_utils.completion_with_retry.<locals>._completion_with_retry in 4.0 seconds as it raised RateLimitError: Rate limit reached for gpt-3.5-turbo in organization org-kdP6t2JxpPUqXQC2t4zLx3Mt on requests per min (RPM): Limit 3, Used 3, Requested 1. Please try again in 20s. Visit https://platform.openai.com/account/rate-limits to learn more. You can increase your rate limit by adding a payment method to your account at https://platform.openai.com/account/billing..\n",
      "WARNING:llama_index.llms.openai_utils:Retrying llama_index.llms.openai_utils.completion_with_retry.<locals>._completion_with_retry in 4.0 seconds as it raised RateLimitError: Rate limit reached for gpt-3.5-turbo in organization org-kdP6t2JxpPUqXQC2t4zLx3Mt on requests per min (RPM): Limit 3, Used 3, Requested 1. Please try again in 20s. Visit https://platform.openai.com/account/rate-limits to learn more. You can increase your rate limit by adding a payment method to your account at https://platform.openai.com/account/billing..\n",
      " 50%|██████████████████████████████████████████                                          | 5/10 [01:12<01:29, 17.94s/it]WARNING:llama_index.llms.openai_utils:Retrying llama_index.llms.openai_utils.completion_with_retry.<locals>._completion_with_retry in 4.0 seconds as it raised RateLimitError: Rate limit reached for gpt-3.5-turbo in organization org-kdP6t2JxpPUqXQC2t4zLx3Mt on requests per min (RPM): Limit 3, Used 3, Requested 1. Please try again in 20s. Visit https://platform.openai.com/account/rate-limits to learn more. You can increase your rate limit by adding a payment method to your account at https://platform.openai.com/account/billing..\n",
      "WARNING:llama_index.llms.openai_utils:Retrying llama_index.llms.openai_utils.completion_with_retry.<locals>._completion_with_retry in 4.0 seconds as it raised RateLimitError: Rate limit reached for gpt-3.5-turbo in organization org-kdP6t2JxpPUqXQC2t4zLx3Mt on requests per min (RPM): Limit 3, Used 3, Requested 1. Please try again in 20s. Visit https://platform.openai.com/account/rate-limits to learn more. You can increase your rate limit by adding a payment method to your account at https://platform.openai.com/account/billing..\n",
      "WARNING:llama_index.llms.openai_utils:Retrying llama_index.llms.openai_utils.completion_with_retry.<locals>._completion_with_retry in 4.0 seconds as it raised RateLimitError: Rate limit reached for gpt-3.5-turbo in organization org-kdP6t2JxpPUqXQC2t4zLx3Mt on requests per min (RPM): Limit 3, Used 3, Requested 1. Please try again in 20s. Visit https://platform.openai.com/account/rate-limits to learn more. You can increase your rate limit by adding a payment method to your account at https://platform.openai.com/account/billing..\n",
      " 60%|██████████████████████████████████████████████████▍                                 | 6/10 [01:26<01:07, 16.81s/it]WARNING:llama_index.llms.openai_utils:Retrying llama_index.llms.openai_utils.completion_with_retry.<locals>._completion_with_retry in 4.0 seconds as it raised RateLimitError: Rate limit reached for gpt-3.5-turbo in organization org-kdP6t2JxpPUqXQC2t4zLx3Mt on requests per min (RPM): Limit 3, Used 3, Requested 1. Please try again in 20s. Visit https://platform.openai.com/account/rate-limits to learn more. You can increase your rate limit by adding a payment method to your account at https://platform.openai.com/account/billing..\n",
      "WARNING:llama_index.llms.openai_utils:Retrying llama_index.llms.openai_utils.completion_with_retry.<locals>._completion_with_retry in 4.0 seconds as it raised RateLimitError: Rate limit reached for gpt-3.5-turbo in organization org-kdP6t2JxpPUqXQC2t4zLx3Mt on requests per min (RPM): Limit 3, Used 3, Requested 1. Please try again in 20s. Visit https://platform.openai.com/account/rate-limits to learn more. You can increase your rate limit by adding a payment method to your account at https://platform.openai.com/account/billing..\n",
      "WARNING:llama_index.llms.openai_utils:Retrying llama_index.llms.openai_utils.completion_with_retry.<locals>._completion_with_retry in 4.0 seconds as it raised RateLimitError: Rate limit reached for gpt-3.5-turbo in organization org-kdP6t2JxpPUqXQC2t4zLx3Mt on requests per min (RPM): Limit 3, Used 3, Requested 1. Please try again in 20s. Visit https://platform.openai.com/account/rate-limits to learn more. You can increase your rate limit by adding a payment method to your account at https://platform.openai.com/account/billing..\n",
      "WARNING:llama_index.llms.openai_utils:Retrying llama_index.llms.openai_utils.completion_with_retry.<locals>._completion_with_retry in 8.0 seconds as it raised RateLimitError: Rate limit reached for gpt-3.5-turbo in organization org-kdP6t2JxpPUqXQC2t4zLx3Mt on requests per min (RPM): Limit 3, Used 3, Requested 1. Please try again in 20s. Visit https://platform.openai.com/account/rate-limits to learn more. You can increase your rate limit by adding a payment method to your account at https://platform.openai.com/account/billing..\n",
      " 70%|██████████████████████████████████████████████████████████▊                         | 7/10 [01:51<00:58, 19.39s/it]WARNING:llama_index.llms.openai_utils:Retrying llama_index.llms.openai_utils.completion_with_retry.<locals>._completion_with_retry in 4.0 seconds as it raised RateLimitError: Rate limit reached for gpt-3.5-turbo in organization org-kdP6t2JxpPUqXQC2t4zLx3Mt on requests per min (RPM): Limit 3, Used 3, Requested 1. Please try again in 20s. Visit https://platform.openai.com/account/rate-limits to learn more. You can increase your rate limit by adding a payment method to your account at https://platform.openai.com/account/billing..\n",
      "WARNING:llama_index.llms.openai_utils:Retrying llama_index.llms.openai_utils.completion_with_retry.<locals>._completion_with_retry in 4.0 seconds as it raised RateLimitError: Rate limit reached for gpt-3.5-turbo in organization org-kdP6t2JxpPUqXQC2t4zLx3Mt on requests per min (RPM): Limit 3, Used 3, Requested 1. Please try again in 20s. Visit https://platform.openai.com/account/rate-limits to learn more. You can increase your rate limit by adding a payment method to your account at https://platform.openai.com/account/billing..\n",
      "WARNING:llama_index.llms.openai_utils:Retrying llama_index.llms.openai_utils.completion_with_retry.<locals>._completion_with_retry in 4.0 seconds as it raised RateLimitError: Rate limit reached for gpt-3.5-turbo in organization org-kdP6t2JxpPUqXQC2t4zLx3Mt on requests per min (RPM): Limit 3, Used 3, Requested 1. Please try again in 20s. Visit https://platform.openai.com/account/rate-limits to learn more. You can increase your rate limit by adding a payment method to your account at https://platform.openai.com/account/billing..\n",
      " 80%|███████████████████████████████████████████████████████████████████▏                | 8/10 [02:08<00:37, 18.56s/it]WARNING:llama_index.llms.openai_utils:Retrying llama_index.llms.openai_utils.completion_with_retry.<locals>._completion_with_retry in 4.0 seconds as it raised RateLimitError: Rate limit reached for gpt-3.5-turbo in organization org-kdP6t2JxpPUqXQC2t4zLx3Mt on requests per min (RPM): Limit 3, Used 3, Requested 1. Please try again in 20s. Visit https://platform.openai.com/account/rate-limits to learn more. You can increase your rate limit by adding a payment method to your account at https://platform.openai.com/account/billing..\n",
      "WARNING:llama_index.llms.openai_utils:Retrying llama_index.llms.openai_utils.completion_with_retry.<locals>._completion_with_retry in 4.0 seconds as it raised RateLimitError: Rate limit reached for gpt-3.5-turbo in organization org-kdP6t2JxpPUqXQC2t4zLx3Mt on requests per min (RPM): Limit 3, Used 3, Requested 1. Please try again in 20s. Visit https://platform.openai.com/account/rate-limits to learn more. You can increase your rate limit by adding a payment method to your account at https://platform.openai.com/account/billing..\n",
      "WARNING:llama_index.llms.openai_utils:Retrying llama_index.llms.openai_utils.completion_with_retry.<locals>._completion_with_retry in 4.0 seconds as it raised RateLimitError: Rate limit reached for gpt-3.5-turbo in organization org-kdP6t2JxpPUqXQC2t4zLx3Mt on requests per min (RPM): Limit 3, Used 3, Requested 1. Please try again in 20s. Visit https://platform.openai.com/account/rate-limits to learn more. You can increase your rate limit by adding a payment method to your account at https://platform.openai.com/account/billing..\n",
      "WARNING:llama_index.llms.openai_utils:Retrying llama_index.llms.openai_utils.completion_with_retry.<locals>._completion_with_retry in 8.0 seconds as it raised RateLimitError: Rate limit reached for gpt-3.5-turbo in organization org-kdP6t2JxpPUqXQC2t4zLx3Mt on requests per min (RPM): Limit 3, Used 3, Requested 1. Please try again in 20s. Visit https://platform.openai.com/account/rate-limits to learn more. You can increase your rate limit by adding a payment method to your account at https://platform.openai.com/account/billing..\n",
      " 90%|███████████████████████████████████████████████████████████████████████████▌        | 9/10 [02:36<00:21, 21.52s/it]WARNING:llama_index.llms.openai_utils:Retrying llama_index.llms.openai_utils.completion_with_retry.<locals>._completion_with_retry in 4.0 seconds as it raised RateLimitError: Rate limit reached for gpt-3.5-turbo in organization org-kdP6t2JxpPUqXQC2t4zLx3Mt on requests per min (RPM): Limit 3, Used 3, Requested 1. Please try again in 20s. Visit https://platform.openai.com/account/rate-limits to learn more. You can increase your rate limit by adding a payment method to your account at https://platform.openai.com/account/billing..\n",
      "WARNING:llama_index.llms.openai_utils:Retrying llama_index.llms.openai_utils.completion_with_retry.<locals>._completion_with_retry in 4.0 seconds as it raised RateLimitError: Rate limit reached for gpt-3.5-turbo in organization org-kdP6t2JxpPUqXQC2t4zLx3Mt on requests per min (RPM): Limit 3, Used 3, Requested 1. Please try again in 20s. Visit https://platform.openai.com/account/rate-limits to learn more. You can increase your rate limit by adding a payment method to your account at https://platform.openai.com/account/billing..\n",
      "100%|███████████████████████████████████████████████████████████████████████████████████| 10/10 [02:47<00:00, 16.71s/it]\n"
     ]
    }
   ],
   "source": [
    "rag_responses = []\n",
    "rag_response_str = []\n",
    "from tqdm import tqdm\n",
    "for entry in tqdm(golden_responses):\n",
    "    query = entry[\"question\"]\n",
    "    response = query_engine.query(query)\n",
    "    rag_responses.append(response)\n",
    "    rag_response_str.append(response.response)"
   ]
  },
  {
   "cell_type": "markdown",
   "id": "caf9026d-a860-44be-a6fd-d22f334fb5d0",
   "metadata": {
    "jp-MarkdownHeadingCollapsed": true
   },
   "source": [
    "#### Using the LLamaIndex Correctness Evaluator on Golden Responses Dataset"
   ]
  },
  {
   "cell_type": "code",
   "execution_count": 17,
   "id": "aeb8f740-f971-4a7c-9e9d-a6dee4568a52",
   "metadata": {},
   "outputs": [],
   "source": [
    "from llama_index.evaluation import CorrectnessEvaluator"
   ]
  },
  {
   "cell_type": "code",
   "execution_count": 18,
   "id": "5fa2bd0b-e11c-40ee-b1b7-6008bf7cf118",
   "metadata": {},
   "outputs": [],
   "source": [
    "from llama_index import VectorStoreIndex, ServiceContext\n",
    "eval_llm = PaLM(api_key=palm_api_key, temperature=0.0)\n",
    "service_context = ServiceContext.from_defaults(llm=eval_llm)\n",
    "evaluator = CorrectnessEvaluator(service_context=service_context)"
   ]
  },
  {
   "cell_type": "code",
   "execution_count": null,
   "id": "e3376476-c85c-4487-8a8a-5ad3e70e2d19",
   "metadata": {
    "scrolled": true
   },
   "outputs": [],
   "source": [
    "eval_results = []\n",
    "for rag_response, golden_response in tqdm(list(zip(rag_response_str, golden_responses))):\n",
    "    query = golden_response[\"question\"]\n",
    "    golden_answer = golden_response[\"response\"]\n",
    "    generated_answer = rag_response\n",
    "    \n",
    "    eval_result = evaluator.evaluate(query=query, reference=golden_answer, response=generated_answer)\n",
    "    eval_results.append(eval_result)"
   ]
  },
  {
   "cell_type": "code",
   "execution_count": 20,
   "id": "fcf94626-f5b9-4a8f-a8e4-446b2ab4dab4",
   "metadata": {},
   "outputs": [
    {
     "data": {
      "text/plain": [
       "[4.5, 3.5, 3.0, 4.0, 3.5, 3.5, 4.0, 4.0, 3.0, 4.5]"
      ]
     },
     "execution_count": 20,
     "metadata": {},
     "output_type": "execute_result"
    }
   ],
   "source": [
    "[r.score for r in eval_results]"
   ]
  },
  {
   "cell_type": "code",
   "execution_count": 21,
   "id": "5a9e1469-5805-46cb-b629-3d3893598226",
   "metadata": {},
   "outputs": [],
   "source": [
    "scores = [\n",
    "    {\"question\": golden_response[\"question\"],\n",
    "     \"golden_response\": golden_response[\"response\"],\n",
    "     \"generated_response\": eval_result.response,\n",
    "     \"score\": eval_result.score,\n",
    "     \"reasoning\": eval_result.feedback,\n",
    "    }\n",
    "    for eval_result, golden_response in zip(eval_results, golden_responses)\n",
    "]"
   ]
  },
  {
   "cell_type": "code",
   "execution_count": 22,
   "id": "9380e0b6-81ff-48a5-8fae-a4f79960704c",
   "metadata": {},
   "outputs": [],
   "source": [
    "with open(\"sentence-window-eval-scores-mistral-exp1.json\", \"w\") as file:\n",
    "    json.dump(scores, file, indent=4)"
   ]
  },
  {
   "cell_type": "code",
   "execution_count": 23,
   "id": "74d65c2e-8a99-48e7-9119-6134194a22ac",
   "metadata": {},
   "outputs": [
    {
     "data": {
      "text/plain": [
       "3.75"
      ]
     },
     "execution_count": 23,
     "metadata": {},
     "output_type": "execute_result"
    }
   ],
   "source": [
    "average_scores = sum(score[\"score\"] for score in scores) / len(scores)\n",
    "average_scores"
   ]
  },
  {
   "cell_type": "markdown",
   "id": "1cee67cd",
   "metadata": {},
   "source": [
    "#### Using LlamaIndex Correctness Evaluator on User Responses Dataset"
   ]
  },
  {
   "cell_type": "code",
   "execution_count": null,
   "id": "715590dc",
   "metadata": {},
   "outputs": [],
   "source": [
    "import json\n",
    "with open(\"../datasets/sentence-window-eval-scores-mistral-exp1.json\", \"r\") as file:\n",
    "    pred_responses = json.load(file)"
   ]
  },
  {
   "cell_type": "code",
   "execution_count": null,
   "id": "f788dab2",
   "metadata": {},
   "outputs": [
    {
     "name": "stderr",
     "output_type": "stream",
     "text": [
      "100%|██████████████████████████████████████████████████████████████████████████████████████████████████████████████████████████████████████████████████████████████████████████████| 10/10 [02:27<00:00, 14.78s/it]\n"
     ]
    }
   ],
   "source": [
    "eval_results = []\n",
    "from tqdm import tqdm\n",
    "for pred_response, golden_response in tqdm(list(zip(pred_responses, golden_responses))):\n",
    "    query = golden_response[\"question\"]\n",
    "    golden_answer = golden_response[\"response\"]\n",
    "    response = pred_response[\"generated_response\"]\n",
    "    \n",
    "    eval_result = evaluator.evaluate(query=query, reference=golden_answer, response=response)\n",
    "    eval_results.append(eval_result)"
   ]
  },
  {
   "cell_type": "code",
   "execution_count": null,
   "id": "46460f3a",
   "metadata": {},
   "outputs": [
    {
     "data": {
      "text/plain": [
       "[3.5, 4.0, 3.5, 3.0, 3.5, 3.5, 4.5, 3.5, 3.5, 4.5]"
      ]
     },
     "metadata": {},
     "output_type": "display_data"
    }
   ],
   "source": [
    "[r.score for r in eval_results]"
   ]
  },
  {
   "cell_type": "code",
   "execution_count": null,
   "id": "daa9ad63",
   "metadata": {},
   "outputs": [
    {
     "data": {
      "text/plain": [
       "3.7"
      ]
     },
     "metadata": {},
     "output_type": "display_data"
    }
   ],
   "source": [
    "scores = [\n",
    "    {\"question\": golden_response[\"question\"],\n",
    "     \"golden_response\": golden_response[\"response\"],\n",
    "     \"generated_response\": eval_result.response,\n",
    "     \"score\": eval_result.score,\n",
    "     \"reasoning\": eval_result.feedback,\n",
    "    }\n",
    "    for eval_result, golden_response in zip(eval_results, golden_responses)\n",
    "]\n",
    "with open(\"mistralsw1vshuman.json\", \"w\") as file:\n",
    "    json.dump(scores, file, indent=4)\n",
    "average_scores = sum(score[\"score\"] for score in scores) / len(scores)\n",
    "average_scores"
   ]
  },
  {
   "cell_type": "markdown",
   "id": "4320bb79-4979-45ac-a74f-23adbea55421",
   "metadata": {},
   "source": [
    "#### Industry Metrics on User Responses Dataset"
   ]
  },
  {
   "cell_type": "code",
   "execution_count": 2,
   "id": "bd94ebc8-b0fc-42bf-82f4-ba9cbb7becf9",
   "metadata": {},
   "outputs": [],
   "source": [
    "import json\n",
    "with open(\"../datasets/human1_responses.json\", \"r\") as file:\n",
    "    human1 = json.load(file)\n",
    "with open(\"../datasets/human2_responses.json\", \"r\") as file:\n",
    "    human2 = json.load(file)\n",
    "with open(\"../datasets/human3_responses.json\", \"r\") as file:\n",
    "    human3 = json.load(file)\n",
    "with open(\"../datasets/sentence-window-eval-scores-mistral-exp1.json\", \"r\") as file:\n",
    "    eval = json.load(file)\n",
    "\n",
    "human1_responses = []\n",
    "human2_responses = []\n",
    "human3_responses = []\n",
    "eval_responses = []\n",
    "\n",
    "for i in range(0, 10):\n",
    "    human1_responses.append(human1[i][\"response\"])\n",
    "    human2_responses.append(human2[i][\"response\"])\n",
    "    human3_responses.append(human3[i][\"response\"])\n",
    "    eval_responses.append(eval[i][\"generated_response\"])\n",
    "    \n",
    "references_dict = {\n",
    "    \"human_1\": human1_responses,\n",
    "    \"human_2\": human2_responses,\n",
    "    \"human_3\": human3_responses,\n",
    "}"
   ]
  },
  {
   "cell_type": "code",
   "execution_count": 4,
   "id": "c23cdfee-f420-4344-b3d7-12faa995cab9",
   "metadata": {
    "scrolled": true
   },
   "outputs": [
    {
     "name": "stdout",
     "output_type": "stream",
     "text": [
      "Calculating ROUGE Score...\n",
      "Calculating BLEU Score...\n",
      "Calculating BERT Score...\n"
     ]
    },
    {
     "name": "stderr",
     "output_type": "stream",
     "text": [
      "Some weights of RobertaModel were not initialized from the model checkpoint at roberta-large and are newly initialized: ['roberta.pooler.dense.bias', 'roberta.pooler.dense.weight']\n",
      "You should probably TRAIN this model on a down-stream task to be able to use it for predictions and inference.\n",
      "Some weights of RobertaModel were not initialized from the model checkpoint at roberta-large and are newly initialized: ['roberta.pooler.dense.bias', 'roberta.pooler.dense.weight']\n",
      "You should probably TRAIN this model on a down-stream task to be able to use it for predictions and inference.\n",
      "Some weights of RobertaModel were not initialized from the model checkpoint at roberta-large and are newly initialized: ['roberta.pooler.dense.bias', 'roberta.pooler.dense.weight']\n",
      "You should probably TRAIN this model on a down-stream task to be able to use it for predictions and inference.\n"
     ]
    },
    {
     "name": "stdout",
     "output_type": "stream",
     "text": [
      "Calculating METEOR Score...\n"
     ]
    },
    {
     "name": "stderr",
     "output_type": "stream",
     "text": [
      "[nltk_data] Downloading package wordnet to /home/aditi/nltk_data...\n",
      "[nltk_data]   Package wordnet is already up-to-date!\n",
      "[nltk_data] Downloading package punkt to /home/aditi/nltk_data...\n",
      "[nltk_data]   Package punkt is already up-to-date!\n",
      "[nltk_data] Downloading package omw-1.4 to /home/aditi/nltk_data...\n",
      "[nltk_data]   Package omw-1.4 is already up-to-date!\n",
      "[nltk_data] Downloading package wordnet to /home/aditi/nltk_data...\n",
      "[nltk_data]   Package wordnet is already up-to-date!\n",
      "[nltk_data] Downloading package punkt to /home/aditi/nltk_data...\n",
      "[nltk_data]   Package punkt is already up-to-date!\n",
      "[nltk_data] Downloading package omw-1.4 to /home/aditi/nltk_data...\n",
      "[nltk_data]   Package omw-1.4 is already up-to-date!\n",
      "[nltk_data] Downloading package wordnet to /home/aditi/nltk_data...\n",
      "[nltk_data]   Package wordnet is already up-to-date!\n",
      "[nltk_data] Downloading package punkt to /home/aditi/nltk_data...\n",
      "[nltk_data]   Package punkt is already up-to-date!\n",
      "[nltk_data] Downloading package omw-1.4 to /home/aditi/nltk_data...\n",
      "[nltk_data]   Package omw-1.4 is already up-to-date!\n"
     ]
    }
   ],
   "source": [
    "from eval import generate_human_eval_summary\n",
    "exp1_vs_humans_result = generate_human_eval_summary(references_dict, eval_responses, \"Mistral Sentence Window RAG (Exp. 1)\")"
   ]
  },
  {
   "cell_type": "code",
   "execution_count": 5,
   "id": "bf775b56-5558-4a77-8b55-b1f5545d730a",
   "metadata": {},
   "outputs": [
    {
     "name": "stdout",
     "output_type": "stream",
     "text": [
      "  Mistral Sentence Window RAG (Exp. 1)    rouge1    rouge2    rougeL  \\\n",
      "0                              human_1  0.584217  0.406543  0.418048   \n",
      "1                              human_2  0.581597  0.388147  0.411147   \n",
      "2                              human_3  0.577495  0.439533  0.459834   \n",
      "\n",
      "   rougeLsum  \n",
      "0   0.415083  \n",
      "1   0.408499  \n",
      "2   0.458249  \n"
     ]
    }
   ],
   "source": [
    "print(exp1_vs_humans_result[\"rouge\"])"
   ]
  },
  {
   "cell_type": "code",
   "execution_count": 6,
   "id": "a1634c5c-55ec-4b78-83c4-20fe71f7d5ef",
   "metadata": {},
   "outputs": [
    {
     "name": "stdout",
     "output_type": "stream",
     "text": [
      "  Mistral Sentence Window RAG (Exp. 1)      bleu\n",
      "0                              human_1  0.317673\n",
      "1                              human_2  0.317673\n",
      "2                              human_3  0.317673\n"
     ]
    }
   ],
   "source": [
    "print(exp1_vs_humans_result[\"bleu\"])"
   ]
  },
  {
   "cell_type": "code",
   "execution_count": 7,
   "id": "8e120a3a-f2a2-4425-8cfd-a0108ae71d32",
   "metadata": {},
   "outputs": [
    {
     "name": "stdout",
     "output_type": "stream",
     "text": [
      "  Mistral Sentence Window RAG (Exp. 1)    meteor\n",
      "0                              human_1  0.466855\n",
      "1                              human_2  0.466855\n",
      "2                              human_3  0.466855\n"
     ]
    }
   ],
   "source": [
    "print(exp1_vs_humans_result[\"meteor\"])"
   ]
  },
  {
   "cell_type": "markdown",
   "id": "11453e54-746f-42ee-9148-ec2e1509dbe2",
   "metadata": {},
   "source": [
    "### Sentence Window Retrieval (Window size = 1, Top_K = 10, model = mistral)"
   ]
  },
  {
   "cell_type": "code",
   "execution_count": 24,
   "id": "b6bf2fb5-94fb-4056-a5e7-60d958ab9bad",
   "metadata": {},
   "outputs": [],
   "source": [
    "BASE_MODEL = 'sentence-transformers/all-mpnet-base-v2'  \n",
    "WINDOW_SIZE = 1\n",
    "TOP_K = 10\n",
    "\n",
    "TEST_SUBSAMPLE_N = 10\n",
    "\n",
    "EXPERIMENT_NAME = 'sentence_window'"
   ]
  },
  {
   "cell_type": "code",
   "execution_count": 25,
   "id": "2b8c9896-501e-4af5-96b6-e035d5c24ab2",
   "metadata": {},
   "outputs": [],
   "source": [
    "docs = load_corpus('../datasets/eval_qst.json')"
   ]
  },
  {
   "cell_type": "code",
   "execution_count": 26,
   "id": "16c98f5b-3918-4d15-adff-ae69ded0d8c8",
   "metadata": {},
   "outputs": [
    {
     "data": {
      "application/vnd.jupyter.widget-view+json": {
       "model_id": "1c4f70a3db3d474daea09f5fcd4cbcb6",
       "version_major": 2,
       "version_minor": 0
      },
      "text/plain": [
       "Parsing documents into nodes:   0%|          | 0/2966 [00:00<?, ?it/s]"
      ]
     },
     "metadata": {},
     "output_type": "display_data"
    },
    {
     "data": {
      "application/vnd.jupyter.widget-view+json": {
       "model_id": "f221603b114f448b91f7d79dd1e9bad1",
       "version_major": 2,
       "version_minor": 0
      },
      "text/plain": [
       "Generating embeddings:   0%|          | 0/17571 [00:00<?, ?it/s]"
      ]
     },
     "metadata": {},
     "output_type": "display_data"
    }
   ],
   "source": [
    "from langchain.embeddings import HuggingFaceEmbeddings\n",
    "from llama_index import ServiceContext, set_global_service_context, VectorStoreIndex\n",
    "from llama_index.llms import OpenAI\n",
    "from llama_index.node_parser import SentenceWindowNodeParser\n",
    "from llama_index.indices.postprocessor import MetadataReplacementPostProcessor\n",
    "\n",
    "# create the sentence window node parser\n",
    "node_parser = SentenceWindowNodeParser.from_defaults(\n",
    "    window_size=WINDOW_SIZE,\n",
    "    window_metadata_key=\"window\",\n",
    "    original_text_metadata_key=\"original_text\",\n",
    ")\n",
    "\n",
    "service_context = ServiceContext.from_defaults(\n",
    "    embed_model=HuggingFaceEmbeddings(\n",
    "        model_name=BASE_MODEL\n",
    "    ),\n",
    "    node_parser=node_parser,\n",
    ")\n",
    "\n",
    "index = VectorStoreIndex.from_documents(\n",
    "    docs, \n",
    "    service_context=service_context, \n",
    "    show_progress=True\n",
    ")"
   ]
  },
  {
   "cell_type": "code",
   "execution_count": 27,
   "id": "ae2ef13d-cc23-4b98-8324-3f2a9c960db4",
   "metadata": {},
   "outputs": [],
   "source": [
    "retriever = index.as_retriever(similarity_top_k=TOP_K)"
   ]
  },
  {
   "cell_type": "code",
   "execution_count": 28,
   "id": "74b4f718-7ca0-468d-9817-d0934e06949c",
   "metadata": {},
   "outputs": [],
   "source": [
    "query_engine = index.as_query_engine(\n",
    "    similarity_top_k=TOP_K,\n",
    "    # the target key defaults to `window` to match the node_parser's default\n",
    "    node_postprocessors=[\n",
    "        MetadataReplacementPostProcessor(target_metadata_key=\"window\")\n",
    "    ],\n",
    ")"
   ]
  },
  {
   "cell_type": "code",
   "execution_count": 29,
   "id": "d6b7e1d9-9b8f-439b-a492-499d37ee8d53",
   "metadata": {},
   "outputs": [],
   "source": [
    "import json\n",
    "import numpy as np\n",
    "\n",
    "from eval import evaluate_retrieval"
   ]
  },
  {
   "cell_type": "code",
   "execution_count": 30,
   "id": "6d6df7b9-9704-4dd7-9735-e3be46b92668",
   "metadata": {},
   "outputs": [],
   "source": [
    "from pathlib import Path\n",
    "golden_dataset_path = Path(\"../datasets/eval_qst.json\")\n",
    "with open(golden_dataset_path, \"r\") as f:\n",
    "    golden_dataset = json.load(f)\n",
    "\n",
    "queries = [item['question'] for item in golden_dataset]\n",
    "golden_sources = [item['source'] for item in golden_dataset]"
   ]
  },
  {
   "cell_type": "code",
   "execution_count": null,
   "id": "ec0b89be",
   "metadata": {},
   "outputs": [
    {
     "name": "stderr",
     "output_type": "stream",
     "text": [
      "100%|███████████████████████████████████████████████████████████████████████████████| 2966/2966 [23:20<00:00,  2.12it/s]\n"
     ]
    }
   ],
   "source": [
    "results = evaluate_retrieval(retriever, queries, golden_sources)"
   ]
  },
  {
   "cell_type": "code",
   "execution_count": null,
   "id": "56acf1d4",
   "metadata": {},
   "outputs": [
    {
     "data": {
      "text/plain": [
       "0.9440323668240054"
      ]
     },
     "metadata": {},
     "output_type": "display_data"
    }
   ],
   "source": [
    "from eval import evaluate_retrieval, get_hit_rate, get_mean_score\n",
    "hit_rate = get_hit_rate(results)\n",
    "hit_rate"
   ]
  },
  {
   "cell_type": "markdown",
   "id": "7165fb74-06af-4011-8db6-0cd2ea3801cf",
   "metadata": {
    "jp-MarkdownHeadingCollapsed": true
   },
   "source": [
    "#### Evaluating RAG"
   ]
  },
  {
   "cell_type": "code",
   "execution_count": 31,
   "id": "d2ae6fd1-c847-434d-a0fe-92576624a3b0",
   "metadata": {},
   "outputs": [
    {
     "data": {
      "text/plain": [
       "{'question': 'What are the side effects of doxycycline?',\n",
       " 'source': 'https://www.drugs.com/doxycycline.html',\n",
       " 'response': 'The side effects of doxycycline may include severe stomach pain, diarrhea that is watery or bloody, throat irritation, trouble swallowing, chest pain, irregular heart rhythm, feeling short of breath, little or no urination, low white blood cell counts, severe headaches, ringing in your ears, dizziness, nausea, vision problems, pain behind your eyes, loss of appetite, upper stomach pain, tiredness, nausea or vomiting, fast heart rate, dark urine, and jaundice. Common side effects may include nausea and vomiting, upset stomach, loss of appetite, mild diarrhea, skin rash or itching, darkened skin color, and vaginal itching or discharge.'}"
      ]
     },
     "execution_count": 31,
     "metadata": {},
     "output_type": "execute_result"
    }
   ],
   "source": [
    "with open(\"../datasets/golden-responses.json\", \"r\") as file:\n",
    "    golden_responses = json.load(file)\n",
    "golden_responses[0]"
   ]
  },
  {
   "cell_type": "code",
   "execution_count": 32,
   "id": "4acb6809-afd6-4e16-8de7-46c51eb1b03d",
   "metadata": {},
   "outputs": [],
   "source": [
    "import os\n",
    "from llama_index.llms import Replicate\n",
    "os.environ[\"REPLICATE_API_TOKEN\"]=\"r8_a0d6dQeqgpR2DEpik21hoyocmFx0eBI01cm6w\"\n",
    "llm = Replicate(\n",
    "    model=\"mistralai/mistral-7b-v0.1:3e8a0fb6d7812ce30701ba597e5080689bef8a013e5c6a724fafb108cc2426a0\"\n",
    ")\n",
    "query_engine = index.as_query_engine(\n",
    "    similarity_top_k=TOP_K,\n",
    "    # the target key defaults to `window` to match the node_parser's default\n",
    "    node_postprocessors=[\n",
    "        MetadataReplacementPostProcessor(target_metadata_key=\"window\")\n",
    "    ],\n",
    "    llm=llm\n",
    ")"
   ]
  },
  {
   "cell_type": "code",
   "execution_count": null,
   "id": "c332b7c1-35bd-4333-a2ff-4dc1e979141e",
   "metadata": {
    "scrolled": true
   },
   "outputs": [],
   "source": [
    "rag_responses = []\n",
    "rag_response_str = []\n",
    "from tqdm import tqdm\n",
    "for entry in tqdm(golden_responses):\n",
    "    query = entry[\"question\"]\n",
    "    response = query_engine.query(query)\n",
    "    rag_responses.append(response)\n",
    "    rag_response_str.append(response.response)"
   ]
  },
  {
   "cell_type": "markdown",
   "id": "f2301750-d68c-4217-96d4-d6538978ebaf",
   "metadata": {
    "jp-MarkdownHeadingCollapsed": true
   },
   "source": [
    "#### Using the LLamaIndex Correctness Evaluator on Golden Responses Dataset"
   ]
  },
  {
   "cell_type": "code",
   "execution_count": null,
   "id": "b22a9cf6-03c5-4b1e-af29-b62049340126",
   "metadata": {
    "scrolled": true
   },
   "outputs": [],
   "source": [
    "eval_results = []\n",
    "for rag_response, golden_response in tqdm(list(zip(rag_response_str, golden_responses))):\n",
    "    query = golden_response[\"question\"]\n",
    "    golden_answer = golden_response[\"response\"]\n",
    "    generated_answer = rag_response\n",
    "    \n",
    "    eval_result = evaluator.evaluate(query=query, reference=golden_answer, response=generated_answer)\n",
    "    eval_results.append(eval_result)"
   ]
  },
  {
   "cell_type": "code",
   "execution_count": 41,
   "id": "9c579310-c7fb-4ca5-b2c0-0612484af4a6",
   "metadata": {},
   "outputs": [
    {
     "data": {
      "text/plain": [
       "[4.5, 4.0, 3.0, 4.0, 3.5, 3.5, 4.0, 4.0, 3.0, 4.5]"
      ]
     },
     "execution_count": 41,
     "metadata": {},
     "output_type": "execute_result"
    }
   ],
   "source": [
    "[r.score for r in eval_results]"
   ]
  },
  {
   "cell_type": "code",
   "execution_count": 42,
   "id": "15db2621-08de-471b-8812-11b74feb51cf",
   "metadata": {},
   "outputs": [],
   "source": [
    "scores = [\n",
    "    {\"question\": golden_response[\"question\"],\n",
    "     \"golden_response\": golden_response[\"response\"],\n",
    "     \"generated_response\": eval_result.response,\n",
    "     \"score\": eval_result.score,\n",
    "     \"reasoning\": eval_result.feedback,\n",
    "    }\n",
    "    for eval_result, golden_response in zip(eval_results, golden_responses)\n",
    "]"
   ]
  },
  {
   "cell_type": "code",
   "execution_count": 43,
   "id": "ff7a38eb-ab78-477c-809f-efb8260450c0",
   "metadata": {},
   "outputs": [],
   "source": [
    "with open(\"sentence-window-eval-scores-mistral-exp2.json\", \"w\") as file:\n",
    "    json.dump(scores, file, indent=4)"
   ]
  },
  {
   "cell_type": "code",
   "execution_count": 44,
   "id": "cc4f916d",
   "metadata": {},
   "outputs": [
    {
     "data": {
      "text/plain": [
       "3.8"
      ]
     },
     "execution_count": 44,
     "metadata": {},
     "output_type": "execute_result"
    }
   ],
   "source": [
    "average_scores = sum(score[\"score\"] for score in scores) / len(scores)\n",
    "average_scores"
   ]
  },
  {
   "cell_type": "markdown",
   "id": "961afa4f",
   "metadata": {},
   "source": [
    "#### Using LlamaIndex Correctness Evaluator on User Responses Dataset"
   ]
  },
  {
   "cell_type": "code",
   "execution_count": null,
   "id": "3bc0fd42",
   "metadata": {},
   "outputs": [],
   "source": [
    "import json\n",
    "with open(\"../datasets/sentence-window-eval-scores-mistral-exp2.json\", \"r\") as file:\n",
    "    pred_responses = json.load(file)"
   ]
  },
  {
   "cell_type": "code",
   "execution_count": null,
   "id": "85a23d62",
   "metadata": {},
   "outputs": [
    {
     "name": "stderr",
     "output_type": "stream",
     "text": [
      "100%|██████████████████████████████████████████████████████████████████████████████████████████████████████████████████████████████████████████████████████████████████████████████| 10/10 [02:31<00:00, 15.19s/it]\n"
     ]
    }
   ],
   "source": [
    "eval_results = []\n",
    "from tqdm import tqdm\n",
    "for pred_response, golden_response in tqdm(list(zip(pred_responses, golden_responses))):\n",
    "    query = golden_response[\"question\"]\n",
    "    golden_answer = golden_response[\"response\"]\n",
    "    response = pred_response[\"generated_response\"]\n",
    "    \n",
    "    eval_result = evaluator.evaluate(query=query, reference=golden_answer, response=response)\n",
    "    eval_results.append(eval_result)"
   ]
  },
  {
   "cell_type": "code",
   "execution_count": null,
   "id": "d26c60af",
   "metadata": {},
   "outputs": [
    {
     "data": {
      "text/plain": [
       "[3.5, 3.5, 3.0, 3.0, 3.0, 3.5, 4.5, 3.5, 3.0, 4.5]"
      ]
     },
     "metadata": {},
     "output_type": "display_data"
    }
   ],
   "source": [
    "[r.score for r in eval_results]"
   ]
  },
  {
   "cell_type": "code",
   "execution_count": null,
   "id": "b09c41f8",
   "metadata": {},
   "outputs": [
    {
     "data": {
      "text/plain": [
       "3.5"
      ]
     },
     "metadata": {},
     "output_type": "display_data"
    }
   ],
   "source": [
    "scores = [\n",
    "    {\"question\": golden_response[\"question\"],\n",
    "     \"golden_response\": golden_response[\"response\"],\n",
    "     \"generated_response\": eval_result.response,\n",
    "     \"score\": eval_result.score,\n",
    "     \"reasoning\": eval_result.feedback,\n",
    "    }\n",
    "    for eval_result, golden_response in zip(eval_results, golden_responses)\n",
    "]\n",
    "with open(\"mistralsw2vshuman.json\", \"w\") as file:\n",
    "    json.dump(scores, file, indent=4)\n",
    "average_scores = sum(score[\"score\"] for score in scores) / len(scores)\n",
    "average_scores"
   ]
  },
  {
   "cell_type": "markdown",
   "id": "52e46d93-a12d-42fa-89ed-dd78c9f8603e",
   "metadata": {},
   "source": [
    "#### Industry Metrics on User Responses Dataset"
   ]
  },
  {
   "cell_type": "code",
   "execution_count": 8,
   "id": "43150e56-adf1-4aa6-b7de-2655aa392529",
   "metadata": {},
   "outputs": [],
   "source": [
    "import json\n",
    "with open(\"../datasets/human1_responses.json\", \"r\") as file:\n",
    "    human1 = json.load(file)\n",
    "with open(\"../datasets/human2_responses.json\", \"r\") as file:\n",
    "    human2 = json.load(file)\n",
    "with open(\"../datasets/human3_responses.json\", \"r\") as file:\n",
    "    human3 = json.load(file)\n",
    "with open(\"../datasets/sentence-window-eval-scores-mistral-exp2.json\", \"r\") as file:\n",
    "    eval = json.load(file)\n",
    "\n",
    "human1_responses = []\n",
    "human2_responses = []\n",
    "human3_responses = []\n",
    "eval_responses = []\n",
    "\n",
    "for i in range(0, 10):\n",
    "    human1_responses.append(human1[i][\"response\"])\n",
    "    human2_responses.append(human2[i][\"response\"])\n",
    "    human3_responses.append(human3[i][\"response\"])\n",
    "    eval_responses.append(eval[i][\"generated_response\"])\n",
    "    \n",
    "references_dict = {\n",
    "    \"human_1\": human1_responses,\n",
    "    \"human_2\": human2_responses,\n",
    "    \"human_3\": human3_responses,\n",
    "}"
   ]
  },
  {
   "cell_type": "code",
   "execution_count": 9,
   "id": "260a5da9-8b28-47aa-a9e4-a7ab8e978093",
   "metadata": {
    "scrolled": true
   },
   "outputs": [
    {
     "name": "stdout",
     "output_type": "stream",
     "text": [
      "Calculating ROUGE Score...\n",
      "Calculating BLEU Score...\n",
      "Calculating BERT Score...\n"
     ]
    },
    {
     "name": "stderr",
     "output_type": "stream",
     "text": [
      "Some weights of RobertaModel were not initialized from the model checkpoint at roberta-large and are newly initialized: ['roberta.pooler.dense.bias', 'roberta.pooler.dense.weight']\n",
      "You should probably TRAIN this model on a down-stream task to be able to use it for predictions and inference.\n",
      "Some weights of RobertaModel were not initialized from the model checkpoint at roberta-large and are newly initialized: ['roberta.pooler.dense.bias', 'roberta.pooler.dense.weight']\n",
      "You should probably TRAIN this model on a down-stream task to be able to use it for predictions and inference.\n",
      "Some weights of RobertaModel were not initialized from the model checkpoint at roberta-large and are newly initialized: ['roberta.pooler.dense.bias', 'roberta.pooler.dense.weight']\n",
      "You should probably TRAIN this model on a down-stream task to be able to use it for predictions and inference.\n"
     ]
    },
    {
     "name": "stdout",
     "output_type": "stream",
     "text": [
      "Calculating METEOR Score...\n"
     ]
    },
    {
     "name": "stderr",
     "output_type": "stream",
     "text": [
      "[nltk_data] Downloading package wordnet to /home/aditi/nltk_data...\n",
      "[nltk_data]   Package wordnet is already up-to-date!\n",
      "[nltk_data] Downloading package punkt to /home/aditi/nltk_data...\n",
      "[nltk_data]   Package punkt is already up-to-date!\n",
      "[nltk_data] Downloading package omw-1.4 to /home/aditi/nltk_data...\n",
      "[nltk_data]   Package omw-1.4 is already up-to-date!\n",
      "[nltk_data] Downloading package wordnet to /home/aditi/nltk_data...\n",
      "[nltk_data]   Package wordnet is already up-to-date!\n",
      "[nltk_data] Downloading package punkt to /home/aditi/nltk_data...\n",
      "[nltk_data]   Package punkt is already up-to-date!\n",
      "[nltk_data] Downloading package omw-1.4 to /home/aditi/nltk_data...\n",
      "[nltk_data]   Package omw-1.4 is already up-to-date!\n",
      "[nltk_data] Downloading package wordnet to /home/aditi/nltk_data...\n",
      "[nltk_data]   Package wordnet is already up-to-date!\n",
      "[nltk_data] Downloading package punkt to /home/aditi/nltk_data...\n",
      "[nltk_data]   Package punkt is already up-to-date!\n",
      "[nltk_data] Downloading package omw-1.4 to /home/aditi/nltk_data...\n",
      "[nltk_data]   Package omw-1.4 is already up-to-date!\n"
     ]
    }
   ],
   "source": [
    "from eval import generate_human_eval_summary\n",
    "exp2_vs_humans_result = generate_human_eval_summary(references_dict, eval_responses, \"Mistral Sentence Window RAG (Exp. 1)\")"
   ]
  },
  {
   "cell_type": "code",
   "execution_count": 10,
   "id": "5682e146-3ac9-42da-8ebb-bee6d526fdd3",
   "metadata": {},
   "outputs": [
    {
     "name": "stdout",
     "output_type": "stream",
     "text": [
      "  Mistral Sentence Window RAG (Exp. 1)    rouge1    rouge2    rougeL  \\\n",
      "0                              human_1  0.557320  0.389804  0.404088   \n",
      "1                              human_2  0.566143  0.374323  0.395713   \n",
      "2                              human_3  0.558848  0.436611  0.460138   \n",
      "\n",
      "   rougeLsum  \n",
      "0   0.403198  \n",
      "1   0.395083  \n",
      "2   0.456100  \n"
     ]
    }
   ],
   "source": [
    "print(exp2_vs_humans_result[\"rouge\"])"
   ]
  },
  {
   "cell_type": "code",
   "execution_count": 11,
   "id": "18af6a1a-f315-41de-9ed9-445ea80b737e",
   "metadata": {},
   "outputs": [
    {
     "name": "stdout",
     "output_type": "stream",
     "text": [
      "  Mistral Sentence Window RAG (Exp. 1)      bleu\n",
      "0                              human_1  0.227047\n",
      "1                              human_2  0.227047\n",
      "2                              human_3  0.227047\n"
     ]
    }
   ],
   "source": [
    "print(exp2_vs_humans_result[\"bleu\"])"
   ]
  },
  {
   "cell_type": "code",
   "execution_count": 12,
   "id": "5c00dd68-fa55-4fbb-8fa6-638f7e87c472",
   "metadata": {},
   "outputs": [
    {
     "name": "stdout",
     "output_type": "stream",
     "text": [
      "  Mistral Sentence Window RAG (Exp. 1)    meteor\n",
      "0                              human_1  0.473438\n",
      "1                              human_2  0.473438\n",
      "2                              human_3  0.473438\n"
     ]
    }
   ],
   "source": [
    "print(exp2_vs_humans_result[\"meteor\"])"
   ]
  },
  {
   "cell_type": "markdown",
   "id": "fe9e5b69-dd8d-444d-af05-e1e47b7e6292",
   "metadata": {},
   "source": [
    "### Evaluating Exp 1 vs Exp 2 Using industry standard metrics on the Golden Responses Dataset"
   ]
  },
  {
   "cell_type": "code",
   "execution_count": 1,
   "id": "cd7dfdbc-d120-44db-950e-f7e1f1f94acb",
   "metadata": {
    "scrolled": true
   },
   "outputs": [
    {
     "name": "stderr",
     "output_type": "stream",
     "text": [
      "2023-12-07 09:55:03.108540: E external/local_xla/xla/stream_executor/cuda/cuda_dnn.cc:9261] Unable to register cuDNN factory: Attempting to register factory for plugin cuDNN when one has already been registered\n",
      "2023-12-07 09:55:03.108620: E external/local_xla/xla/stream_executor/cuda/cuda_fft.cc:607] Unable to register cuFFT factory: Attempting to register factory for plugin cuFFT when one has already been registered\n",
      "2023-12-07 09:55:03.109951: E external/local_xla/xla/stream_executor/cuda/cuda_blas.cc:1515] Unable to register cuBLAS factory: Attempting to register factory for plugin cuBLAS when one has already been registered\n",
      "2023-12-07 09:55:03.116197: I tensorflow/core/platform/cpu_feature_guard.cc:182] This TensorFlow binary is optimized to use available CPU instructions in performance-critical operations.\n",
      "To enable the following instructions: AVX2 FMA, in other operations, rebuild TensorFlow with the appropriate compiler flags.\n",
      "2023-12-07 09:55:03.941463: W tensorflow/compiler/tf2tensorrt/utils/py_utils.cc:38] TF-TRT Warning: Could not find TensorRT\n"
     ]
    },
    {
     "name": "stdout",
     "output_type": "stream",
     "text": [
      "Calculating ROUGE Score...\n",
      "Calculating BLEU Score...\n",
      "Calculating BERT Score...\n"
     ]
    },
    {
     "name": "stderr",
     "output_type": "stream",
     "text": [
      "Some weights of RobertaModel were not initialized from the model checkpoint at roberta-large and are newly initialized: ['roberta.pooler.dense.bias', 'roberta.pooler.dense.weight']\n",
      "You should probably TRAIN this model on a down-stream task to be able to use it for predictions and inference.\n",
      "Some weights of RobertaModel were not initialized from the model checkpoint at roberta-large and are newly initialized: ['roberta.pooler.dense.bias', 'roberta.pooler.dense.weight']\n",
      "You should probably TRAIN this model on a down-stream task to be able to use it for predictions and inference.\n",
      "Some weights of RobertaModel were not initialized from the model checkpoint at roberta-large and are newly initialized: ['roberta.pooler.dense.bias', 'roberta.pooler.dense.weight']\n",
      "You should probably TRAIN this model on a down-stream task to be able to use it for predictions and inference.\n",
      "Some weights of RobertaModel were not initialized from the model checkpoint at roberta-large and are newly initialized: ['roberta.pooler.dense.bias', 'roberta.pooler.dense.weight']\n",
      "You should probably TRAIN this model on a down-stream task to be able to use it for predictions and inference.\n"
     ]
    },
    {
     "name": "stdout",
     "output_type": "stream",
     "text": [
      "Calculating METEOR Score...\n"
     ]
    },
    {
     "name": "stderr",
     "output_type": "stream",
     "text": [
      "[nltk_data] Downloading package wordnet to /home/aditi/nltk_data...\n",
      "[nltk_data]   Package wordnet is already up-to-date!\n",
      "[nltk_data] Downloading package punkt to /home/aditi/nltk_data...\n",
      "[nltk_data]   Package punkt is already up-to-date!\n",
      "[nltk_data] Downloading package omw-1.4 to /home/aditi/nltk_data...\n",
      "[nltk_data]   Package omw-1.4 is already up-to-date!\n",
      "[nltk_data] Downloading package wordnet to /home/aditi/nltk_data...\n",
      "[nltk_data]   Package wordnet is already up-to-date!\n",
      "[nltk_data] Downloading package punkt to /home/aditi/nltk_data...\n",
      "[nltk_data]   Package punkt is already up-to-date!\n",
      "[nltk_data] Downloading package omw-1.4 to /home/aditi/nltk_data...\n",
      "[nltk_data]   Package omw-1.4 is already up-to-date!\n",
      "[nltk_data] Downloading package wordnet to /home/aditi/nltk_data...\n",
      "[nltk_data]   Package wordnet is already up-to-date!\n",
      "[nltk_data] Downloading package punkt to /home/aditi/nltk_data...\n",
      "[nltk_data]   Package punkt is already up-to-date!\n",
      "[nltk_data] Downloading package omw-1.4 to /home/aditi/nltk_data...\n",
      "[nltk_data]   Package omw-1.4 is already up-to-date!\n",
      "[nltk_data] Downloading package wordnet to /home/aditi/nltk_data...\n",
      "[nltk_data]   Package wordnet is already up-to-date!\n",
      "[nltk_data] Downloading package punkt to /home/aditi/nltk_data...\n",
      "[nltk_data]   Package punkt is already up-to-date!\n",
      "[nltk_data] Downloading package omw-1.4 to /home/aditi/nltk_data...\n",
      "[nltk_data]   Package omw-1.4 is already up-to-date!\n"
     ]
    }
   ],
   "source": [
    "import json\n",
    "with open(\"../datasets/eval-scores-bare-mistral.json\", \"r\") as file:\n",
    "    bare_llm = json.load(file)\n",
    "with open(\"../datasets/eval-scores-rag-mistral.json\", \"r\") as file:\n",
    "    rag = json.load(file)\n",
    "with open(\"../datasets/sentence-window-eval-scores-mistral-exp1.json\", \"r\") as file:\n",
    "    sw_rag1 = json.load(file) \n",
    "with open(\"../datasets/sentence-window-eval-scores-mistral-exp2.json\", \"r\") as file:\n",
    "    sw_rag2 = json.load(file) \n",
    "with open(\"../datasets/golden-responses.json\", \"r\") as file:\n",
    "    golden = json.load(file)\n",
    "\n",
    "rag_responses = []\n",
    "sw1_rag_responses = []\n",
    "sw2_rag_responses = []\n",
    "bare_responses = []\n",
    "golden_responses = []\n",
    "for i in range(0, 10):\n",
    "    rag_responses.append(rag[i][\"generated_response\"])\n",
    "    sw1_rag_responses.append(sw_rag1[i][\"generated_response\"])\n",
    "    sw2_rag_responses.append(sw_rag2[i][\"generated_response\"])\n",
    "    bare_responses.append(bare_llm[i][\"generated_response\"])\n",
    "    golden_responses.append(golden[i][\"response\"])\n",
    "    \n",
    "predictions_dict = {\n",
    "    \"Bare Mistral LLM\": bare_responses,\n",
    "    \"Mistral + RAG\": rag_responses,\n",
    "    \"Mistral Sentence Window RAG (Exp. 1)\": sw1_rag_responses,\n",
    "    \"Mistral Sentence Window RAG (Exp. 2)\": sw2_rag_responses\n",
    "}\n",
    "from eval import generate_metrics_summary\n",
    "result = generate_metrics_summary(golden_responses, predictions_dict)"
   ]
  },
  {
   "cell_type": "code",
   "execution_count": 4,
   "id": "49aca439-934a-4b75-a24a-543339de95ca",
   "metadata": {},
   "outputs": [],
   "source": [
    "result[\"meteor\"].to_csv('r.csv', index=False)"
   ]
  },
  {
   "cell_type": "code",
   "execution_count": 50,
   "id": "08456d41-70eb-49b0-b6a8-ffc314ed5ae8",
   "metadata": {},
   "outputs": [
    {
     "name": "stdout",
     "output_type": "stream",
     "text": [
      "                                 System    rouge1    rouge2    rougeL  \\\n",
      "0                      Bare Mistral LLM  0.253465  0.070145  0.175156   \n",
      "1                         Mistral + RAG  0.622262  0.502128  0.483196   \n",
      "2  Mistral Sentence Window RAG (Exp. 1)  0.632888  0.558515  0.577765   \n",
      "3  Mistral Sentence Window RAG (Exp. 2)  0.575042  0.519628  0.535734   \n",
      "\n",
      "   rougeLsum  \n",
      "0   0.196274  \n",
      "1   0.490470  \n",
      "2   0.584620  \n",
      "3   0.531742  \n"
     ]
    }
   ],
   "source": [
    "print(result[\"rouge\"])"
   ]
  },
  {
   "cell_type": "code",
   "execution_count": 51,
   "id": "a016ae04-e027-4bd9-8a40-4d654e5c9e53",
   "metadata": {},
   "outputs": [
    {
     "name": "stdout",
     "output_type": "stream",
     "text": [
      "                                 System      bleu\n",
      "0                      Bare Mistral LLM  0.039006\n",
      "1                         Mistral + RAG  0.365213\n",
      "2  Mistral Sentence Window RAG (Exp. 1)  0.404449\n",
      "3  Mistral Sentence Window RAG (Exp. 2)  0.246032\n"
     ]
    }
   ],
   "source": [
    "print(result[\"bleu\"])"
   ]
  },
  {
   "cell_type": "code",
   "execution_count": 52,
   "id": "b1127ed7-6349-4886-a11f-fac2b22dc776",
   "metadata": {
    "scrolled": true
   },
   "outputs": [
    {
     "name": "stdout",
     "output_type": "stream",
     "text": [
      "                                 System    meteor\n",
      "0                      Bare Mistral LLM  0.239231\n",
      "1                         Mistral + RAG  0.609384\n",
      "2  Mistral Sentence Window RAG (Exp. 1)  0.704675\n",
      "3  Mistral Sentence Window RAG (Exp. 2)  0.615892\n"
     ]
    }
   ],
   "source": [
    "print(result[\"meteor\"])"
   ]
  },
  {
   "cell_type": "markdown",
   "id": "857c6909-3270-461b-9c6a-a533b90d3e04",
   "metadata": {},
   "source": [
    "## Palm test"
   ]
  },
  {
   "cell_type": "markdown",
   "id": "b878750c-81d3-41b1-967b-e160275f526e",
   "metadata": {},
   "source": [
    "The correctness evaluator is sometimes finicky. Run below cells to make sure, you have enough API calls/have done the necessary setup."
   ]
  },
  {
   "cell_type": "markdown",
   "id": "6f49a4c2",
   "metadata": {},
   "source": [
    "### PLEASE PASTE YOUR OWN API KEY HERE"
   ]
  },
  {
   "cell_type": "code",
   "execution_count": 3,
   "id": "63675711-ffef-43cb-9c82-37fcbf0b791f",
   "metadata": {},
   "outputs": [],
   "source": [
    "import google.generativeai as palm\n",
    "palm_api_key = \"\"\n",
    "palm.configure(api_key=palm_api_key)\n",
    "from llama_index.llms.palm import PaLM"
   ]
  },
  {
   "cell_type": "code",
   "execution_count": 1,
   "id": "983ad7ad-d092-4bc8-b5f4-3a747202790c",
   "metadata": {},
   "outputs": [],
   "source": [
    "import nest_asyncio\n",
    "\n",
    "nest_asyncio.apply()"
   ]
  },
  {
   "cell_type": "code",
   "execution_count": 4,
   "id": "8b952885-4b7d-428f-9fec-d1129078db35",
   "metadata": {},
   "outputs": [],
   "source": [
    "import google.generativeai as palm\n",
    "from llama_index.evaluation import CorrectnessEvaluator\n",
    "palm.configure(api_key=palm_api_key)\n",
    "from llama_index.llms.palm import PaLM\n",
    "from llama_index import VectorStoreIndex, ServiceContext\n",
    "eval_llm = PaLM(api_key=palm_api_key, temperature=0.0)\n",
    "service_context = ServiceContext.from_defaults(llm=eval_llm)\n",
    "evaluator = CorrectnessEvaluator(service_context=service_context)"
   ]
  },
  {
   "cell_type": "code",
   "execution_count": 5,
   "id": "6f0e08f5-ce0d-4d55-b4ce-3523282f8d96",
   "metadata": {},
   "outputs": [],
   "source": [
    "eval_results = []\n",
    "from tqdm import tqdm\n",
    "for i in range(0,1):\n",
    "    query = \"hi\"\n",
    "    golden_answer = \"What's UP\"\n",
    "    generated_answer = \"hello\"\n",
    "    \n",
    "    eval_result = evaluator.evaluate(query=query, reference=golden_answer, response=generated_answer)\n",
    "    eval_results.append(eval_result)"
   ]
  },
  {
   "cell_type": "code",
   "execution_count": 6,
   "id": "cd8a25d1-c959-4ddc-a2e4-e894d60628c9",
   "metadata": {},
   "outputs": [
    {
     "name": "stdout",
     "output_type": "stream",
     "text": [
      "[EvaluationResult(query='hi', contexts=None, response='hello', passing=False, feedback='The generated answer is relevant to the user query but it is not fully correct.', score=3.0)]\n"
     ]
    }
   ],
   "source": [
    "print(eval_results)"
   ]
  }
 ],
 "metadata": {
  "kernelspec": {
   "display_name": "Python 3 (ipykernel)",
   "language": "python",
   "name": "python3"
  },
  "language_info": {
   "codemirror_mode": {
    "name": "ipython",
    "version": 3
   },
   "file_extension": ".py",
   "mimetype": "text/x-python",
   "name": "python",
   "nbconvert_exporter": "python",
   "pygments_lexer": "ipython3",
   "version": "3.11.5"
  }
 },
 "nbformat": 4,
 "nbformat_minor": 5
}
